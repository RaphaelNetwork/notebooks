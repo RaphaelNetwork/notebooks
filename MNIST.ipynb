{
  "nbformat": 4,
  "nbformat_minor": 0,
  "metadata": {
    "colab": {
      "name": "MNIST.ipynb",
      "provenance": [],
      "collapsed_sections": [],
      "authorship_tag": "ABX9TyMkPAPF0KRsfAy0tuxMx7Bo",
      "include_colab_link": true
    },
    "kernelspec": {
      "name": "python3",
      "display_name": "Python 3"
    },
    "accelerator": "GPU"
  },
  "cells": [
    {
      "cell_type": "markdown",
      "metadata": {
        "id": "view-in-github",
        "colab_type": "text"
      },
      "source": [
        "<a href=\"https://colab.research.google.com/github/RaphaelNetwork/notebooks/blob/master/MNIST.ipynb\" target=\"_parent\"><img src=\"https://colab.research.google.com/assets/colab-badge.svg\" alt=\"Open In Colab\"/></a>"
      ]
    },
    {
      "cell_type": "code",
      "metadata": {
        "colab": {
          "base_uri": "https://localhost:8080/"
        },
        "id": "z2D93u5GBhBD",
        "outputId": "f84be099-a7f3-4924-dbe3-c1188f474d22"
      },
      "source": [
        "pip install visualkeras"
      ],
      "execution_count": 1,
      "outputs": [
        {
          "output_type": "stream",
          "text": [
            "Requirement already satisfied: visualkeras in /usr/local/lib/python3.6/dist-packages (0.0.1)\n",
            "Requirement already satisfied: pillow>=6.2.0 in /usr/local/lib/python3.6/dist-packages (from visualkeras) (7.0.0)\n"
          ],
          "name": "stdout"
        }
      ]
    },
    {
      "cell_type": "code",
      "metadata": {
        "id": "D3fUHean7xCr"
      },
      "source": [
        "import numpy as np\n",
        "import pandas as pd\n",
        "\n",
        "import matplotlib.pyplot as plt\n",
        "import seaborn as sns\n",
        "plt.style.use(\"seaborn-darkgrid\")\n",
        "%matplotlib inline\n",
        "\n",
        "from sklearn.model_selection import train_test_split\n",
        "from sklearn.metrics import classification_report,confusion_matrix\n",
        "from sklearn.metrics import accuracy_score\n",
        "\n",
        "import cv2\n",
        "\n",
        "from tensorflow.keras.utils import to_categorical\n",
        "from tensorflow.keras.models import Sequential\n",
        "from tensorflow.keras.layers import Dense, Conv2D,Flatten,MaxPooling2D,Dropout,MaxPool2D\n",
        "from keras.layers.normalization import BatchNormalization\n",
        "\n",
        "import visualkeras\n",
        "from keras.utils import plot_model"
      ],
      "execution_count": 2,
      "outputs": []
    },
    {
      "cell_type": "markdown",
      "metadata": {
        "id": "1XtrtnA09A_z"
      },
      "source": [
        "# **Loading Data**"
      ]
    },
    {
      "cell_type": "code",
      "metadata": {
        "id": "KXqOiXBl9AYC"
      },
      "source": [
        "#MNIST\n",
        "train=pd.read_csv('/content/sample_data/mnist_train_small.csv',sep=',')\n",
        "test=pd.read_csv('/content/sample_data/mnist_test.csv',sep=',')"
      ],
      "execution_count": 3,
      "outputs": []
    },
    {
      "cell_type": "code",
      "metadata": {
        "id": "1cIXrnA687IM"
      },
      "source": [
        "col=['label']\n",
        "for i in np.arange(784):\n",
        "  col.append('pix'+str(i))\n",
        "\n",
        "train.columns=col\n",
        "test.columns=col"
      ],
      "execution_count": 4,
      "outputs": []
    },
    {
      "cell_type": "code",
      "metadata": {
        "colab": {
          "base_uri": "https://localhost:8080/",
          "height": 253
        },
        "id": "udk7okZ7-ZN1",
        "outputId": "a7f18fbb-7417-4b15-f25e-c9fcde4eeeaa"
      },
      "source": [
        "train.head()"
      ],
      "execution_count": 5,
      "outputs": [
        {
          "output_type": "execute_result",
          "data": {
            "text/html": [
              "<div>\n",
              "<style scoped>\n",
              "    .dataframe tbody tr th:only-of-type {\n",
              "        vertical-align: middle;\n",
              "    }\n",
              "\n",
              "    .dataframe tbody tr th {\n",
              "        vertical-align: top;\n",
              "    }\n",
              "\n",
              "    .dataframe thead th {\n",
              "        text-align: right;\n",
              "    }\n",
              "</style>\n",
              "<table border=\"1\" class=\"dataframe\">\n",
              "  <thead>\n",
              "    <tr style=\"text-align: right;\">\n",
              "      <th></th>\n",
              "      <th>label</th>\n",
              "      <th>pix0</th>\n",
              "      <th>pix1</th>\n",
              "      <th>pix2</th>\n",
              "      <th>pix3</th>\n",
              "      <th>pix4</th>\n",
              "      <th>pix5</th>\n",
              "      <th>pix6</th>\n",
              "      <th>pix7</th>\n",
              "      <th>pix8</th>\n",
              "      <th>pix9</th>\n",
              "      <th>pix10</th>\n",
              "      <th>pix11</th>\n",
              "      <th>pix12</th>\n",
              "      <th>pix13</th>\n",
              "      <th>pix14</th>\n",
              "      <th>pix15</th>\n",
              "      <th>pix16</th>\n",
              "      <th>pix17</th>\n",
              "      <th>pix18</th>\n",
              "      <th>pix19</th>\n",
              "      <th>pix20</th>\n",
              "      <th>pix21</th>\n",
              "      <th>pix22</th>\n",
              "      <th>pix23</th>\n",
              "      <th>pix24</th>\n",
              "      <th>pix25</th>\n",
              "      <th>pix26</th>\n",
              "      <th>pix27</th>\n",
              "      <th>pix28</th>\n",
              "      <th>pix29</th>\n",
              "      <th>pix30</th>\n",
              "      <th>pix31</th>\n",
              "      <th>pix32</th>\n",
              "      <th>pix33</th>\n",
              "      <th>pix34</th>\n",
              "      <th>pix35</th>\n",
              "      <th>pix36</th>\n",
              "      <th>pix37</th>\n",
              "      <th>pix38</th>\n",
              "      <th>...</th>\n",
              "      <th>pix744</th>\n",
              "      <th>pix745</th>\n",
              "      <th>pix746</th>\n",
              "      <th>pix747</th>\n",
              "      <th>pix748</th>\n",
              "      <th>pix749</th>\n",
              "      <th>pix750</th>\n",
              "      <th>pix751</th>\n",
              "      <th>pix752</th>\n",
              "      <th>pix753</th>\n",
              "      <th>pix754</th>\n",
              "      <th>pix755</th>\n",
              "      <th>pix756</th>\n",
              "      <th>pix757</th>\n",
              "      <th>pix758</th>\n",
              "      <th>pix759</th>\n",
              "      <th>pix760</th>\n",
              "      <th>pix761</th>\n",
              "      <th>pix762</th>\n",
              "      <th>pix763</th>\n",
              "      <th>pix764</th>\n",
              "      <th>pix765</th>\n",
              "      <th>pix766</th>\n",
              "      <th>pix767</th>\n",
              "      <th>pix768</th>\n",
              "      <th>pix769</th>\n",
              "      <th>pix770</th>\n",
              "      <th>pix771</th>\n",
              "      <th>pix772</th>\n",
              "      <th>pix773</th>\n",
              "      <th>pix774</th>\n",
              "      <th>pix775</th>\n",
              "      <th>pix776</th>\n",
              "      <th>pix777</th>\n",
              "      <th>pix778</th>\n",
              "      <th>pix779</th>\n",
              "      <th>pix780</th>\n",
              "      <th>pix781</th>\n",
              "      <th>pix782</th>\n",
              "      <th>pix783</th>\n",
              "    </tr>\n",
              "  </thead>\n",
              "  <tbody>\n",
              "    <tr>\n",
              "      <th>0</th>\n",
              "      <td>5</td>\n",
              "      <td>0</td>\n",
              "      <td>0</td>\n",
              "      <td>0</td>\n",
              "      <td>0</td>\n",
              "      <td>0</td>\n",
              "      <td>0</td>\n",
              "      <td>0</td>\n",
              "      <td>0</td>\n",
              "      <td>0</td>\n",
              "      <td>0</td>\n",
              "      <td>0</td>\n",
              "      <td>0</td>\n",
              "      <td>0</td>\n",
              "      <td>0</td>\n",
              "      <td>0</td>\n",
              "      <td>0</td>\n",
              "      <td>0</td>\n",
              "      <td>0</td>\n",
              "      <td>0</td>\n",
              "      <td>0</td>\n",
              "      <td>0</td>\n",
              "      <td>0</td>\n",
              "      <td>0</td>\n",
              "      <td>0</td>\n",
              "      <td>0</td>\n",
              "      <td>0</td>\n",
              "      <td>0</td>\n",
              "      <td>0</td>\n",
              "      <td>0</td>\n",
              "      <td>0</td>\n",
              "      <td>0</td>\n",
              "      <td>0</td>\n",
              "      <td>0</td>\n",
              "      <td>0</td>\n",
              "      <td>0</td>\n",
              "      <td>0</td>\n",
              "      <td>0</td>\n",
              "      <td>0</td>\n",
              "      <td>0</td>\n",
              "      <td>...</td>\n",
              "      <td>0</td>\n",
              "      <td>0</td>\n",
              "      <td>0</td>\n",
              "      <td>0</td>\n",
              "      <td>0</td>\n",
              "      <td>0</td>\n",
              "      <td>0</td>\n",
              "      <td>0</td>\n",
              "      <td>0</td>\n",
              "      <td>0</td>\n",
              "      <td>0</td>\n",
              "      <td>0</td>\n",
              "      <td>0</td>\n",
              "      <td>0</td>\n",
              "      <td>0</td>\n",
              "      <td>0</td>\n",
              "      <td>0</td>\n",
              "      <td>0</td>\n",
              "      <td>0</td>\n",
              "      <td>0</td>\n",
              "      <td>0</td>\n",
              "      <td>0</td>\n",
              "      <td>0</td>\n",
              "      <td>0</td>\n",
              "      <td>0</td>\n",
              "      <td>0</td>\n",
              "      <td>0</td>\n",
              "      <td>0</td>\n",
              "      <td>0</td>\n",
              "      <td>0</td>\n",
              "      <td>0</td>\n",
              "      <td>0</td>\n",
              "      <td>0</td>\n",
              "      <td>0</td>\n",
              "      <td>0</td>\n",
              "      <td>0</td>\n",
              "      <td>0</td>\n",
              "      <td>0</td>\n",
              "      <td>0</td>\n",
              "      <td>0</td>\n",
              "    </tr>\n",
              "    <tr>\n",
              "      <th>1</th>\n",
              "      <td>7</td>\n",
              "      <td>0</td>\n",
              "      <td>0</td>\n",
              "      <td>0</td>\n",
              "      <td>0</td>\n",
              "      <td>0</td>\n",
              "      <td>0</td>\n",
              "      <td>0</td>\n",
              "      <td>0</td>\n",
              "      <td>0</td>\n",
              "      <td>0</td>\n",
              "      <td>0</td>\n",
              "      <td>0</td>\n",
              "      <td>0</td>\n",
              "      <td>0</td>\n",
              "      <td>0</td>\n",
              "      <td>0</td>\n",
              "      <td>0</td>\n",
              "      <td>0</td>\n",
              "      <td>0</td>\n",
              "      <td>0</td>\n",
              "      <td>0</td>\n",
              "      <td>0</td>\n",
              "      <td>0</td>\n",
              "      <td>0</td>\n",
              "      <td>0</td>\n",
              "      <td>0</td>\n",
              "      <td>0</td>\n",
              "      <td>0</td>\n",
              "      <td>0</td>\n",
              "      <td>0</td>\n",
              "      <td>0</td>\n",
              "      <td>0</td>\n",
              "      <td>0</td>\n",
              "      <td>0</td>\n",
              "      <td>0</td>\n",
              "      <td>0</td>\n",
              "      <td>0</td>\n",
              "      <td>0</td>\n",
              "      <td>0</td>\n",
              "      <td>...</td>\n",
              "      <td>0</td>\n",
              "      <td>0</td>\n",
              "      <td>0</td>\n",
              "      <td>0</td>\n",
              "      <td>0</td>\n",
              "      <td>0</td>\n",
              "      <td>0</td>\n",
              "      <td>0</td>\n",
              "      <td>0</td>\n",
              "      <td>0</td>\n",
              "      <td>0</td>\n",
              "      <td>0</td>\n",
              "      <td>0</td>\n",
              "      <td>0</td>\n",
              "      <td>0</td>\n",
              "      <td>0</td>\n",
              "      <td>0</td>\n",
              "      <td>0</td>\n",
              "      <td>0</td>\n",
              "      <td>0</td>\n",
              "      <td>0</td>\n",
              "      <td>0</td>\n",
              "      <td>0</td>\n",
              "      <td>0</td>\n",
              "      <td>0</td>\n",
              "      <td>0</td>\n",
              "      <td>0</td>\n",
              "      <td>0</td>\n",
              "      <td>0</td>\n",
              "      <td>0</td>\n",
              "      <td>0</td>\n",
              "      <td>0</td>\n",
              "      <td>0</td>\n",
              "      <td>0</td>\n",
              "      <td>0</td>\n",
              "      <td>0</td>\n",
              "      <td>0</td>\n",
              "      <td>0</td>\n",
              "      <td>0</td>\n",
              "      <td>0</td>\n",
              "    </tr>\n",
              "    <tr>\n",
              "      <th>2</th>\n",
              "      <td>9</td>\n",
              "      <td>0</td>\n",
              "      <td>0</td>\n",
              "      <td>0</td>\n",
              "      <td>0</td>\n",
              "      <td>0</td>\n",
              "      <td>0</td>\n",
              "      <td>0</td>\n",
              "      <td>0</td>\n",
              "      <td>0</td>\n",
              "      <td>0</td>\n",
              "      <td>0</td>\n",
              "      <td>0</td>\n",
              "      <td>0</td>\n",
              "      <td>0</td>\n",
              "      <td>0</td>\n",
              "      <td>0</td>\n",
              "      <td>0</td>\n",
              "      <td>0</td>\n",
              "      <td>0</td>\n",
              "      <td>0</td>\n",
              "      <td>0</td>\n",
              "      <td>0</td>\n",
              "      <td>0</td>\n",
              "      <td>0</td>\n",
              "      <td>0</td>\n",
              "      <td>0</td>\n",
              "      <td>0</td>\n",
              "      <td>0</td>\n",
              "      <td>0</td>\n",
              "      <td>0</td>\n",
              "      <td>0</td>\n",
              "      <td>0</td>\n",
              "      <td>0</td>\n",
              "      <td>0</td>\n",
              "      <td>0</td>\n",
              "      <td>0</td>\n",
              "      <td>0</td>\n",
              "      <td>0</td>\n",
              "      <td>0</td>\n",
              "      <td>...</td>\n",
              "      <td>15</td>\n",
              "      <td>0</td>\n",
              "      <td>0</td>\n",
              "      <td>0</td>\n",
              "      <td>0</td>\n",
              "      <td>0</td>\n",
              "      <td>0</td>\n",
              "      <td>0</td>\n",
              "      <td>0</td>\n",
              "      <td>0</td>\n",
              "      <td>0</td>\n",
              "      <td>0</td>\n",
              "      <td>0</td>\n",
              "      <td>0</td>\n",
              "      <td>0</td>\n",
              "      <td>0</td>\n",
              "      <td>0</td>\n",
              "      <td>0</td>\n",
              "      <td>0</td>\n",
              "      <td>0</td>\n",
              "      <td>0</td>\n",
              "      <td>0</td>\n",
              "      <td>0</td>\n",
              "      <td>0</td>\n",
              "      <td>0</td>\n",
              "      <td>0</td>\n",
              "      <td>0</td>\n",
              "      <td>0</td>\n",
              "      <td>0</td>\n",
              "      <td>0</td>\n",
              "      <td>0</td>\n",
              "      <td>0</td>\n",
              "      <td>0</td>\n",
              "      <td>0</td>\n",
              "      <td>0</td>\n",
              "      <td>0</td>\n",
              "      <td>0</td>\n",
              "      <td>0</td>\n",
              "      <td>0</td>\n",
              "      <td>0</td>\n",
              "    </tr>\n",
              "    <tr>\n",
              "      <th>3</th>\n",
              "      <td>5</td>\n",
              "      <td>0</td>\n",
              "      <td>0</td>\n",
              "      <td>0</td>\n",
              "      <td>0</td>\n",
              "      <td>0</td>\n",
              "      <td>0</td>\n",
              "      <td>0</td>\n",
              "      <td>0</td>\n",
              "      <td>0</td>\n",
              "      <td>0</td>\n",
              "      <td>0</td>\n",
              "      <td>0</td>\n",
              "      <td>0</td>\n",
              "      <td>0</td>\n",
              "      <td>0</td>\n",
              "      <td>0</td>\n",
              "      <td>0</td>\n",
              "      <td>0</td>\n",
              "      <td>0</td>\n",
              "      <td>0</td>\n",
              "      <td>0</td>\n",
              "      <td>0</td>\n",
              "      <td>0</td>\n",
              "      <td>0</td>\n",
              "      <td>0</td>\n",
              "      <td>0</td>\n",
              "      <td>0</td>\n",
              "      <td>0</td>\n",
              "      <td>0</td>\n",
              "      <td>0</td>\n",
              "      <td>0</td>\n",
              "      <td>0</td>\n",
              "      <td>0</td>\n",
              "      <td>0</td>\n",
              "      <td>0</td>\n",
              "      <td>0</td>\n",
              "      <td>0</td>\n",
              "      <td>0</td>\n",
              "      <td>0</td>\n",
              "      <td>...</td>\n",
              "      <td>0</td>\n",
              "      <td>0</td>\n",
              "      <td>0</td>\n",
              "      <td>0</td>\n",
              "      <td>0</td>\n",
              "      <td>0</td>\n",
              "      <td>0</td>\n",
              "      <td>0</td>\n",
              "      <td>0</td>\n",
              "      <td>0</td>\n",
              "      <td>0</td>\n",
              "      <td>0</td>\n",
              "      <td>0</td>\n",
              "      <td>0</td>\n",
              "      <td>0</td>\n",
              "      <td>0</td>\n",
              "      <td>0</td>\n",
              "      <td>0</td>\n",
              "      <td>0</td>\n",
              "      <td>0</td>\n",
              "      <td>0</td>\n",
              "      <td>0</td>\n",
              "      <td>0</td>\n",
              "      <td>0</td>\n",
              "      <td>0</td>\n",
              "      <td>0</td>\n",
              "      <td>0</td>\n",
              "      <td>0</td>\n",
              "      <td>0</td>\n",
              "      <td>0</td>\n",
              "      <td>0</td>\n",
              "      <td>0</td>\n",
              "      <td>0</td>\n",
              "      <td>0</td>\n",
              "      <td>0</td>\n",
              "      <td>0</td>\n",
              "      <td>0</td>\n",
              "      <td>0</td>\n",
              "      <td>0</td>\n",
              "      <td>0</td>\n",
              "    </tr>\n",
              "    <tr>\n",
              "      <th>4</th>\n",
              "      <td>2</td>\n",
              "      <td>0</td>\n",
              "      <td>0</td>\n",
              "      <td>0</td>\n",
              "      <td>0</td>\n",
              "      <td>0</td>\n",
              "      <td>0</td>\n",
              "      <td>0</td>\n",
              "      <td>0</td>\n",
              "      <td>0</td>\n",
              "      <td>0</td>\n",
              "      <td>0</td>\n",
              "      <td>0</td>\n",
              "      <td>0</td>\n",
              "      <td>0</td>\n",
              "      <td>0</td>\n",
              "      <td>0</td>\n",
              "      <td>0</td>\n",
              "      <td>0</td>\n",
              "      <td>0</td>\n",
              "      <td>0</td>\n",
              "      <td>0</td>\n",
              "      <td>0</td>\n",
              "      <td>0</td>\n",
              "      <td>0</td>\n",
              "      <td>0</td>\n",
              "      <td>0</td>\n",
              "      <td>0</td>\n",
              "      <td>0</td>\n",
              "      <td>0</td>\n",
              "      <td>0</td>\n",
              "      <td>0</td>\n",
              "      <td>0</td>\n",
              "      <td>0</td>\n",
              "      <td>0</td>\n",
              "      <td>0</td>\n",
              "      <td>0</td>\n",
              "      <td>0</td>\n",
              "      <td>0</td>\n",
              "      <td>0</td>\n",
              "      <td>...</td>\n",
              "      <td>0</td>\n",
              "      <td>0</td>\n",
              "      <td>0</td>\n",
              "      <td>0</td>\n",
              "      <td>0</td>\n",
              "      <td>0</td>\n",
              "      <td>0</td>\n",
              "      <td>0</td>\n",
              "      <td>0</td>\n",
              "      <td>0</td>\n",
              "      <td>0</td>\n",
              "      <td>0</td>\n",
              "      <td>0</td>\n",
              "      <td>0</td>\n",
              "      <td>0</td>\n",
              "      <td>0</td>\n",
              "      <td>0</td>\n",
              "      <td>0</td>\n",
              "      <td>0</td>\n",
              "      <td>0</td>\n",
              "      <td>0</td>\n",
              "      <td>0</td>\n",
              "      <td>0</td>\n",
              "      <td>0</td>\n",
              "      <td>0</td>\n",
              "      <td>0</td>\n",
              "      <td>0</td>\n",
              "      <td>0</td>\n",
              "      <td>0</td>\n",
              "      <td>0</td>\n",
              "      <td>0</td>\n",
              "      <td>0</td>\n",
              "      <td>0</td>\n",
              "      <td>0</td>\n",
              "      <td>0</td>\n",
              "      <td>0</td>\n",
              "      <td>0</td>\n",
              "      <td>0</td>\n",
              "      <td>0</td>\n",
              "      <td>0</td>\n",
              "    </tr>\n",
              "  </tbody>\n",
              "</table>\n",
              "<p>5 rows × 785 columns</p>\n",
              "</div>"
            ],
            "text/plain": [
              "   label  pix0  pix1  pix2  pix3  ...  pix779  pix780  pix781  pix782  pix783\n",
              "0      5     0     0     0     0  ...       0       0       0       0       0\n",
              "1      7     0     0     0     0  ...       0       0       0       0       0\n",
              "2      9     0     0     0     0  ...       0       0       0       0       0\n",
              "3      5     0     0     0     0  ...       0       0       0       0       0\n",
              "4      2     0     0     0     0  ...       0       0       0       0       0\n",
              "\n",
              "[5 rows x 785 columns]"
            ]
          },
          "metadata": {
            "tags": []
          },
          "execution_count": 5
        }
      ]
    },
    {
      "cell_type": "code",
      "metadata": {
        "colab": {
          "base_uri": "https://localhost:8080/",
          "height": 253
        },
        "id": "AIUrfmpl-mvq",
        "outputId": "23c7ff8c-2abf-4deb-9ff0-5820c81f31c6"
      },
      "source": [
        "test.head()"
      ],
      "execution_count": 6,
      "outputs": [
        {
          "output_type": "execute_result",
          "data": {
            "text/html": [
              "<div>\n",
              "<style scoped>\n",
              "    .dataframe tbody tr th:only-of-type {\n",
              "        vertical-align: middle;\n",
              "    }\n",
              "\n",
              "    .dataframe tbody tr th {\n",
              "        vertical-align: top;\n",
              "    }\n",
              "\n",
              "    .dataframe thead th {\n",
              "        text-align: right;\n",
              "    }\n",
              "</style>\n",
              "<table border=\"1\" class=\"dataframe\">\n",
              "  <thead>\n",
              "    <tr style=\"text-align: right;\">\n",
              "      <th></th>\n",
              "      <th>label</th>\n",
              "      <th>pix0</th>\n",
              "      <th>pix1</th>\n",
              "      <th>pix2</th>\n",
              "      <th>pix3</th>\n",
              "      <th>pix4</th>\n",
              "      <th>pix5</th>\n",
              "      <th>pix6</th>\n",
              "      <th>pix7</th>\n",
              "      <th>pix8</th>\n",
              "      <th>pix9</th>\n",
              "      <th>pix10</th>\n",
              "      <th>pix11</th>\n",
              "      <th>pix12</th>\n",
              "      <th>pix13</th>\n",
              "      <th>pix14</th>\n",
              "      <th>pix15</th>\n",
              "      <th>pix16</th>\n",
              "      <th>pix17</th>\n",
              "      <th>pix18</th>\n",
              "      <th>pix19</th>\n",
              "      <th>pix20</th>\n",
              "      <th>pix21</th>\n",
              "      <th>pix22</th>\n",
              "      <th>pix23</th>\n",
              "      <th>pix24</th>\n",
              "      <th>pix25</th>\n",
              "      <th>pix26</th>\n",
              "      <th>pix27</th>\n",
              "      <th>pix28</th>\n",
              "      <th>pix29</th>\n",
              "      <th>pix30</th>\n",
              "      <th>pix31</th>\n",
              "      <th>pix32</th>\n",
              "      <th>pix33</th>\n",
              "      <th>pix34</th>\n",
              "      <th>pix35</th>\n",
              "      <th>pix36</th>\n",
              "      <th>pix37</th>\n",
              "      <th>pix38</th>\n",
              "      <th>...</th>\n",
              "      <th>pix744</th>\n",
              "      <th>pix745</th>\n",
              "      <th>pix746</th>\n",
              "      <th>pix747</th>\n",
              "      <th>pix748</th>\n",
              "      <th>pix749</th>\n",
              "      <th>pix750</th>\n",
              "      <th>pix751</th>\n",
              "      <th>pix752</th>\n",
              "      <th>pix753</th>\n",
              "      <th>pix754</th>\n",
              "      <th>pix755</th>\n",
              "      <th>pix756</th>\n",
              "      <th>pix757</th>\n",
              "      <th>pix758</th>\n",
              "      <th>pix759</th>\n",
              "      <th>pix760</th>\n",
              "      <th>pix761</th>\n",
              "      <th>pix762</th>\n",
              "      <th>pix763</th>\n",
              "      <th>pix764</th>\n",
              "      <th>pix765</th>\n",
              "      <th>pix766</th>\n",
              "      <th>pix767</th>\n",
              "      <th>pix768</th>\n",
              "      <th>pix769</th>\n",
              "      <th>pix770</th>\n",
              "      <th>pix771</th>\n",
              "      <th>pix772</th>\n",
              "      <th>pix773</th>\n",
              "      <th>pix774</th>\n",
              "      <th>pix775</th>\n",
              "      <th>pix776</th>\n",
              "      <th>pix777</th>\n",
              "      <th>pix778</th>\n",
              "      <th>pix779</th>\n",
              "      <th>pix780</th>\n",
              "      <th>pix781</th>\n",
              "      <th>pix782</th>\n",
              "      <th>pix783</th>\n",
              "    </tr>\n",
              "  </thead>\n",
              "  <tbody>\n",
              "    <tr>\n",
              "      <th>0</th>\n",
              "      <td>2</td>\n",
              "      <td>0</td>\n",
              "      <td>0</td>\n",
              "      <td>0</td>\n",
              "      <td>0</td>\n",
              "      <td>0</td>\n",
              "      <td>0</td>\n",
              "      <td>0</td>\n",
              "      <td>0</td>\n",
              "      <td>0</td>\n",
              "      <td>0</td>\n",
              "      <td>0</td>\n",
              "      <td>0</td>\n",
              "      <td>0</td>\n",
              "      <td>0</td>\n",
              "      <td>0</td>\n",
              "      <td>0</td>\n",
              "      <td>0</td>\n",
              "      <td>0</td>\n",
              "      <td>0</td>\n",
              "      <td>0</td>\n",
              "      <td>0</td>\n",
              "      <td>0</td>\n",
              "      <td>0</td>\n",
              "      <td>0</td>\n",
              "      <td>0</td>\n",
              "      <td>0</td>\n",
              "      <td>0</td>\n",
              "      <td>0</td>\n",
              "      <td>0</td>\n",
              "      <td>0</td>\n",
              "      <td>0</td>\n",
              "      <td>0</td>\n",
              "      <td>0</td>\n",
              "      <td>0</td>\n",
              "      <td>0</td>\n",
              "      <td>0</td>\n",
              "      <td>0</td>\n",
              "      <td>0</td>\n",
              "      <td>0</td>\n",
              "      <td>...</td>\n",
              "      <td>0</td>\n",
              "      <td>0</td>\n",
              "      <td>0</td>\n",
              "      <td>0</td>\n",
              "      <td>0</td>\n",
              "      <td>0</td>\n",
              "      <td>0</td>\n",
              "      <td>0</td>\n",
              "      <td>0</td>\n",
              "      <td>0</td>\n",
              "      <td>0</td>\n",
              "      <td>0</td>\n",
              "      <td>0</td>\n",
              "      <td>0</td>\n",
              "      <td>0</td>\n",
              "      <td>0</td>\n",
              "      <td>0</td>\n",
              "      <td>0</td>\n",
              "      <td>0</td>\n",
              "      <td>0</td>\n",
              "      <td>0</td>\n",
              "      <td>0</td>\n",
              "      <td>0</td>\n",
              "      <td>0</td>\n",
              "      <td>0</td>\n",
              "      <td>0</td>\n",
              "      <td>0</td>\n",
              "      <td>0</td>\n",
              "      <td>0</td>\n",
              "      <td>0</td>\n",
              "      <td>0</td>\n",
              "      <td>0</td>\n",
              "      <td>0</td>\n",
              "      <td>0</td>\n",
              "      <td>0</td>\n",
              "      <td>0</td>\n",
              "      <td>0</td>\n",
              "      <td>0</td>\n",
              "      <td>0</td>\n",
              "      <td>0</td>\n",
              "    </tr>\n",
              "    <tr>\n",
              "      <th>1</th>\n",
              "      <td>1</td>\n",
              "      <td>0</td>\n",
              "      <td>0</td>\n",
              "      <td>0</td>\n",
              "      <td>0</td>\n",
              "      <td>0</td>\n",
              "      <td>0</td>\n",
              "      <td>0</td>\n",
              "      <td>0</td>\n",
              "      <td>0</td>\n",
              "      <td>0</td>\n",
              "      <td>0</td>\n",
              "      <td>0</td>\n",
              "      <td>0</td>\n",
              "      <td>0</td>\n",
              "      <td>0</td>\n",
              "      <td>0</td>\n",
              "      <td>0</td>\n",
              "      <td>0</td>\n",
              "      <td>0</td>\n",
              "      <td>0</td>\n",
              "      <td>0</td>\n",
              "      <td>0</td>\n",
              "      <td>0</td>\n",
              "      <td>0</td>\n",
              "      <td>0</td>\n",
              "      <td>0</td>\n",
              "      <td>0</td>\n",
              "      <td>0</td>\n",
              "      <td>0</td>\n",
              "      <td>0</td>\n",
              "      <td>0</td>\n",
              "      <td>0</td>\n",
              "      <td>0</td>\n",
              "      <td>0</td>\n",
              "      <td>0</td>\n",
              "      <td>0</td>\n",
              "      <td>0</td>\n",
              "      <td>0</td>\n",
              "      <td>0</td>\n",
              "      <td>...</td>\n",
              "      <td>0</td>\n",
              "      <td>0</td>\n",
              "      <td>0</td>\n",
              "      <td>0</td>\n",
              "      <td>0</td>\n",
              "      <td>0</td>\n",
              "      <td>0</td>\n",
              "      <td>0</td>\n",
              "      <td>0</td>\n",
              "      <td>0</td>\n",
              "      <td>0</td>\n",
              "      <td>0</td>\n",
              "      <td>0</td>\n",
              "      <td>0</td>\n",
              "      <td>0</td>\n",
              "      <td>0</td>\n",
              "      <td>0</td>\n",
              "      <td>0</td>\n",
              "      <td>0</td>\n",
              "      <td>0</td>\n",
              "      <td>0</td>\n",
              "      <td>0</td>\n",
              "      <td>0</td>\n",
              "      <td>0</td>\n",
              "      <td>0</td>\n",
              "      <td>0</td>\n",
              "      <td>0</td>\n",
              "      <td>0</td>\n",
              "      <td>0</td>\n",
              "      <td>0</td>\n",
              "      <td>0</td>\n",
              "      <td>0</td>\n",
              "      <td>0</td>\n",
              "      <td>0</td>\n",
              "      <td>0</td>\n",
              "      <td>0</td>\n",
              "      <td>0</td>\n",
              "      <td>0</td>\n",
              "      <td>0</td>\n",
              "      <td>0</td>\n",
              "    </tr>\n",
              "    <tr>\n",
              "      <th>2</th>\n",
              "      <td>0</td>\n",
              "      <td>0</td>\n",
              "      <td>0</td>\n",
              "      <td>0</td>\n",
              "      <td>0</td>\n",
              "      <td>0</td>\n",
              "      <td>0</td>\n",
              "      <td>0</td>\n",
              "      <td>0</td>\n",
              "      <td>0</td>\n",
              "      <td>0</td>\n",
              "      <td>0</td>\n",
              "      <td>0</td>\n",
              "      <td>0</td>\n",
              "      <td>0</td>\n",
              "      <td>0</td>\n",
              "      <td>0</td>\n",
              "      <td>0</td>\n",
              "      <td>0</td>\n",
              "      <td>0</td>\n",
              "      <td>0</td>\n",
              "      <td>0</td>\n",
              "      <td>0</td>\n",
              "      <td>0</td>\n",
              "      <td>0</td>\n",
              "      <td>0</td>\n",
              "      <td>0</td>\n",
              "      <td>0</td>\n",
              "      <td>0</td>\n",
              "      <td>0</td>\n",
              "      <td>0</td>\n",
              "      <td>0</td>\n",
              "      <td>0</td>\n",
              "      <td>0</td>\n",
              "      <td>0</td>\n",
              "      <td>0</td>\n",
              "      <td>0</td>\n",
              "      <td>0</td>\n",
              "      <td>0</td>\n",
              "      <td>0</td>\n",
              "      <td>...</td>\n",
              "      <td>0</td>\n",
              "      <td>0</td>\n",
              "      <td>0</td>\n",
              "      <td>0</td>\n",
              "      <td>0</td>\n",
              "      <td>0</td>\n",
              "      <td>0</td>\n",
              "      <td>0</td>\n",
              "      <td>0</td>\n",
              "      <td>0</td>\n",
              "      <td>0</td>\n",
              "      <td>0</td>\n",
              "      <td>0</td>\n",
              "      <td>0</td>\n",
              "      <td>0</td>\n",
              "      <td>0</td>\n",
              "      <td>0</td>\n",
              "      <td>0</td>\n",
              "      <td>0</td>\n",
              "      <td>0</td>\n",
              "      <td>0</td>\n",
              "      <td>0</td>\n",
              "      <td>0</td>\n",
              "      <td>0</td>\n",
              "      <td>0</td>\n",
              "      <td>0</td>\n",
              "      <td>0</td>\n",
              "      <td>0</td>\n",
              "      <td>0</td>\n",
              "      <td>0</td>\n",
              "      <td>0</td>\n",
              "      <td>0</td>\n",
              "      <td>0</td>\n",
              "      <td>0</td>\n",
              "      <td>0</td>\n",
              "      <td>0</td>\n",
              "      <td>0</td>\n",
              "      <td>0</td>\n",
              "      <td>0</td>\n",
              "      <td>0</td>\n",
              "    </tr>\n",
              "    <tr>\n",
              "      <th>3</th>\n",
              "      <td>4</td>\n",
              "      <td>0</td>\n",
              "      <td>0</td>\n",
              "      <td>0</td>\n",
              "      <td>0</td>\n",
              "      <td>0</td>\n",
              "      <td>0</td>\n",
              "      <td>0</td>\n",
              "      <td>0</td>\n",
              "      <td>0</td>\n",
              "      <td>0</td>\n",
              "      <td>0</td>\n",
              "      <td>0</td>\n",
              "      <td>0</td>\n",
              "      <td>0</td>\n",
              "      <td>0</td>\n",
              "      <td>0</td>\n",
              "      <td>0</td>\n",
              "      <td>0</td>\n",
              "      <td>0</td>\n",
              "      <td>0</td>\n",
              "      <td>0</td>\n",
              "      <td>0</td>\n",
              "      <td>0</td>\n",
              "      <td>0</td>\n",
              "      <td>0</td>\n",
              "      <td>0</td>\n",
              "      <td>0</td>\n",
              "      <td>0</td>\n",
              "      <td>0</td>\n",
              "      <td>0</td>\n",
              "      <td>0</td>\n",
              "      <td>0</td>\n",
              "      <td>0</td>\n",
              "      <td>0</td>\n",
              "      <td>0</td>\n",
              "      <td>0</td>\n",
              "      <td>0</td>\n",
              "      <td>0</td>\n",
              "      <td>0</td>\n",
              "      <td>...</td>\n",
              "      <td>0</td>\n",
              "      <td>0</td>\n",
              "      <td>0</td>\n",
              "      <td>0</td>\n",
              "      <td>0</td>\n",
              "      <td>0</td>\n",
              "      <td>0</td>\n",
              "      <td>0</td>\n",
              "      <td>0</td>\n",
              "      <td>0</td>\n",
              "      <td>0</td>\n",
              "      <td>0</td>\n",
              "      <td>0</td>\n",
              "      <td>0</td>\n",
              "      <td>0</td>\n",
              "      <td>0</td>\n",
              "      <td>0</td>\n",
              "      <td>0</td>\n",
              "      <td>0</td>\n",
              "      <td>0</td>\n",
              "      <td>0</td>\n",
              "      <td>0</td>\n",
              "      <td>0</td>\n",
              "      <td>0</td>\n",
              "      <td>0</td>\n",
              "      <td>0</td>\n",
              "      <td>0</td>\n",
              "      <td>0</td>\n",
              "      <td>0</td>\n",
              "      <td>0</td>\n",
              "      <td>0</td>\n",
              "      <td>0</td>\n",
              "      <td>0</td>\n",
              "      <td>0</td>\n",
              "      <td>0</td>\n",
              "      <td>0</td>\n",
              "      <td>0</td>\n",
              "      <td>0</td>\n",
              "      <td>0</td>\n",
              "      <td>0</td>\n",
              "    </tr>\n",
              "    <tr>\n",
              "      <th>4</th>\n",
              "      <td>1</td>\n",
              "      <td>0</td>\n",
              "      <td>0</td>\n",
              "      <td>0</td>\n",
              "      <td>0</td>\n",
              "      <td>0</td>\n",
              "      <td>0</td>\n",
              "      <td>0</td>\n",
              "      <td>0</td>\n",
              "      <td>0</td>\n",
              "      <td>0</td>\n",
              "      <td>0</td>\n",
              "      <td>0</td>\n",
              "      <td>0</td>\n",
              "      <td>0</td>\n",
              "      <td>0</td>\n",
              "      <td>0</td>\n",
              "      <td>0</td>\n",
              "      <td>0</td>\n",
              "      <td>0</td>\n",
              "      <td>0</td>\n",
              "      <td>0</td>\n",
              "      <td>0</td>\n",
              "      <td>0</td>\n",
              "      <td>0</td>\n",
              "      <td>0</td>\n",
              "      <td>0</td>\n",
              "      <td>0</td>\n",
              "      <td>0</td>\n",
              "      <td>0</td>\n",
              "      <td>0</td>\n",
              "      <td>0</td>\n",
              "      <td>0</td>\n",
              "      <td>0</td>\n",
              "      <td>0</td>\n",
              "      <td>0</td>\n",
              "      <td>0</td>\n",
              "      <td>0</td>\n",
              "      <td>0</td>\n",
              "      <td>0</td>\n",
              "      <td>...</td>\n",
              "      <td>0</td>\n",
              "      <td>0</td>\n",
              "      <td>0</td>\n",
              "      <td>0</td>\n",
              "      <td>0</td>\n",
              "      <td>0</td>\n",
              "      <td>0</td>\n",
              "      <td>0</td>\n",
              "      <td>0</td>\n",
              "      <td>0</td>\n",
              "      <td>0</td>\n",
              "      <td>0</td>\n",
              "      <td>0</td>\n",
              "      <td>0</td>\n",
              "      <td>0</td>\n",
              "      <td>0</td>\n",
              "      <td>0</td>\n",
              "      <td>0</td>\n",
              "      <td>0</td>\n",
              "      <td>0</td>\n",
              "      <td>0</td>\n",
              "      <td>0</td>\n",
              "      <td>0</td>\n",
              "      <td>0</td>\n",
              "      <td>0</td>\n",
              "      <td>0</td>\n",
              "      <td>0</td>\n",
              "      <td>0</td>\n",
              "      <td>0</td>\n",
              "      <td>0</td>\n",
              "      <td>0</td>\n",
              "      <td>0</td>\n",
              "      <td>0</td>\n",
              "      <td>0</td>\n",
              "      <td>0</td>\n",
              "      <td>0</td>\n",
              "      <td>0</td>\n",
              "      <td>0</td>\n",
              "      <td>0</td>\n",
              "      <td>0</td>\n",
              "    </tr>\n",
              "  </tbody>\n",
              "</table>\n",
              "<p>5 rows × 785 columns</p>\n",
              "</div>"
            ],
            "text/plain": [
              "   label  pix0  pix1  pix2  pix3  ...  pix779  pix780  pix781  pix782  pix783\n",
              "0      2     0     0     0     0  ...       0       0       0       0       0\n",
              "1      1     0     0     0     0  ...       0       0       0       0       0\n",
              "2      0     0     0     0     0  ...       0       0       0       0       0\n",
              "3      4     0     0     0     0  ...       0       0       0       0       0\n",
              "4      1     0     0     0     0  ...       0       0       0       0       0\n",
              "\n",
              "[5 rows x 785 columns]"
            ]
          },
          "metadata": {
            "tags": []
          },
          "execution_count": 6
        }
      ]
    },
    {
      "cell_type": "code",
      "metadata": {
        "colab": {
          "base_uri": "https://localhost:8080/"
        },
        "id": "ycZMlq2B-pj9",
        "outputId": "372bf6fe-2db5-4a58-a051-65fdd7e70860"
      },
      "source": [
        "print('Train shape : ',train.shape)\n",
        "print('Test shape : ',test.shape)"
      ],
      "execution_count": 7,
      "outputs": [
        {
          "output_type": "stream",
          "text": [
            "Train shape :  (19999, 785)\n",
            "Test shape :  (9999, 785)\n"
          ],
          "name": "stdout"
        }
      ]
    },
    {
      "cell_type": "code",
      "metadata": {
        "colab": {
          "base_uri": "https://localhost:8080/"
        },
        "id": "BA2hu9z4wzsJ",
        "outputId": "f2b1256e-7a54-4612-e68e-8dbc62bc1b3a"
      },
      "source": [
        "#Missing values in train set\n",
        "train.isnull().any().sum()"
      ],
      "execution_count": 8,
      "outputs": [
        {
          "output_type": "execute_result",
          "data": {
            "text/plain": [
              "0"
            ]
          },
          "metadata": {
            "tags": []
          },
          "execution_count": 8
        }
      ]
    },
    {
      "cell_type": "code",
      "metadata": {
        "colab": {
          "base_uri": "https://localhost:8080/"
        },
        "id": "i637EdfRxFhm",
        "outputId": "9d182e73-4e99-4d09-eb02-5274c88da2d4"
      },
      "source": [
        "#Missing values in test set\n",
        "test.isnull().any().sum()"
      ],
      "execution_count": 9,
      "outputs": [
        {
          "output_type": "execute_result",
          "data": {
            "text/plain": [
              "0"
            ]
          },
          "metadata": {
            "tags": []
          },
          "execution_count": 9
        }
      ]
    },
    {
      "cell_type": "markdown",
      "metadata": {
        "id": "Y_2FQbew-95p"
      },
      "source": [
        "# **Data Visualization**"
      ]
    },
    {
      "cell_type": "code",
      "metadata": {
        "id": "uId42fki-9Cv"
      },
      "source": [
        "X_train=(train.iloc[:,1:].values).astype('float32')\n",
        "\n",
        "label_train=train.iloc[:,0].values.astype('int32')\n",
        "\n",
        "X_test=(test.iloc[:,1:].values).astype('float32')\n",
        "\n",
        "label_test=test.iloc[:,0].values.astype('int32')"
      ],
      "execution_count": 10,
      "outputs": []
    },
    {
      "cell_type": "code",
      "metadata": {
        "colab": {
          "base_uri": "https://localhost:8080/",
          "height": 318
        },
        "id": "7MrP6v51-zHP",
        "outputId": "7da3364f-ed17-4cea-ab05-c1e862b0a41f"
      },
      "source": [
        "X_train=X_train.reshape(X_train.shape[0],28,28)\n",
        "\n",
        "plt.figure(figsize=(5,5))\n",
        "for i in range(9):\n",
        "  plt.subplot(330+(i+1))\n",
        "  plt.imshow(X_train[i],cmap=plt.get_cmap('gray'))\n",
        "  plt.title('Label : {}'.format(label_train[i]))\n",
        "  plt.grid(False)\n",
        "  plt.axis('off')"
      ],
      "execution_count": 11,
      "outputs": [
        {
          "output_type": "display_data",
          "data": {
            "image/png": "[encoded data removed]",
            "text/plain": [
              "<Figure size 360x360 with 9 Axes>"
            ]
          },
          "metadata": {
            "tags": [],
            "needs_background": "light"
          }
        }
      ]
    },
    {
      "cell_type": "code",
      "metadata": {
        "colab": {
          "base_uri": "https://localhost:8080/",
          "height": 318
        },
        "id": "odjqw-dS_YWk",
        "outputId": "6cf2e6b0-ebd5-4bc2-e4d0-8ea26771b6d1"
      },
      "source": [
        "X_test=X_test.reshape(X_test.shape[0],28,28)\n",
        "\n",
        "plt.figure(figsize=(5,5))\n",
        "for i in range(9):\n",
        "  plt.subplot(330+(i+1))\n",
        "  plt.imshow(X_test[i],cmap=plt.get_cmap('gray'))\n",
        "  plt.title(\"?\")\n",
        "  plt.grid(False)\n",
        "  plt.axis('off')"
      ],
      "execution_count": 12,
      "outputs": [
        {
          "output_type": "display_data",
          "data": {
            "image/png": "[encoded data removed]",
            "text/plain": [
              "<Figure size 360x360 with 9 Axes>"
            ]
          },
          "metadata": {
            "tags": [],
            "needs_background": "light"
          }
        }
      ]
    },
    {
      "cell_type": "code",
      "metadata": {
        "colab": {
          "base_uri": "https://localhost:8080/",
          "height": 348
        },
        "id": "RF4TfNL8_zLy",
        "outputId": "e17a19cc-d468-474f-c3c0-66b69a27bf41"
      },
      "source": [
        "# Distribution of the labels in the train set\n",
        "\n",
        "plt.figure(figsize=(8,4))\n",
        "sns.countplot(label_train)\n",
        "plt.title('Number of image per digit in the train set')"
      ],
      "execution_count": 13,
      "outputs": [
        {
          "output_type": "stream",
          "text": [
            "/usr/local/lib/python3.6/dist-packages/seaborn/_decorators.py:43: FutureWarning: Pass the following variable as a keyword arg: x. From version 0.12, the only valid positional argument will be `data`, and passing other arguments without an explicit keyword will result in an error or misinterpretation.\n",
            "  FutureWarning\n"
          ],
          "name": "stderr"
        },
        {
          "output_type": "execute_result",
          "data": {
            "text/plain": [
              "Text(0.5, 1.0, 'Number of image per digit in the train set')"
            ]
          },
          "metadata": {
            "tags": []
          },
          "execution_count": 13
        },
        {
          "output_type": "display_data",
          "data": {
            "image/png": "[encoded data removed]",
            "text/plain": [
              "<Figure size 576x288 with 1 Axes>"
            ]
          },
          "metadata": {
            "tags": [],
            "needs_background": "light"
          }
        }
      ]
    },
    {
      "cell_type": "markdown",
      "metadata": {
        "id": "EKweMtZkAMlN"
      },
      "source": [
        "# **Data preprocessing**"
      ]
    },
    {
      "cell_type": "code",
      "metadata": {
        "id": "aGPuHAUl3EkA"
      },
      "source": [
        "X_train=X_train.reshape(train.shape[0],28,28,1)\n",
        "X_test=X_test.reshape(test.shape[0],28,28,1)"
      ],
      "execution_count": 14,
      "outputs": []
    },
    {
      "cell_type": "code",
      "metadata": {
        "id": "XS9UZkLEAL2P"
      },
      "source": [
        "# Standardization\n",
        "\n",
        "X_train=X_train/255.0\n",
        "X_test=X_test/255.0"
      ],
      "execution_count": 15,
      "outputs": []
    },
    {
      "cell_type": "code",
      "metadata": {
        "colab": {
          "base_uri": "https://localhost:8080/"
        },
        "id": "Pr2hQy0yx05q",
        "outputId": "659dcec7-5187-4190-debf-0aee53091920"
      },
      "source": [
        "# One hot encoding the label\n",
        "\n",
        "Y_train=to_categorical(label_train,10)\n",
        "Y_test=to_categorical(label_test,10)\n",
        "\n",
        "print(label_train[0],\" => \",Y_train[0])"
      ],
      "execution_count": 16,
      "outputs": [
        {
          "output_type": "stream",
          "text": [
            "5  =>  [0. 0. 0. 0. 0. 1. 0. 0. 0. 0.]\n"
          ],
          "name": "stdout"
        }
      ]
    },
    {
      "cell_type": "code",
      "metadata": {
        "id": "SnyK0jpRBaId"
      },
      "source": [
        "#Split the training set into a train and validation set\n",
        "\n",
        "x_train,x_val,y_train,y_val=train_test_split(X_train,Y_train,test_size=0.3)"
      ],
      "execution_count": 17,
      "outputs": []
    },
    {
      "cell_type": "code",
      "metadata": {
        "colab": {
          "base_uri": "https://localhost:8080/"
        },
        "id": "V8Vzc_R-29mY",
        "outputId": "dca06fd1-5de9-4ea4-fb89-7d0cc347424e"
      },
      "source": [
        "x_train[0].shape"
      ],
      "execution_count": 18,
      "outputs": [
        {
          "output_type": "execute_result",
          "data": {
            "text/plain": [
              "(28, 28, 1)"
            ]
          },
          "metadata": {
            "tags": []
          },
          "execution_count": 18
        }
      ]
    },
    {
      "cell_type": "markdown",
      "metadata": {
        "id": "sMt9qcaaBzCD"
      },
      "source": [
        "# **Convolution Neural Network (CNN)**"
      ]
    },
    {
      "cell_type": "markdown",
      "metadata": {
        "id": "74kci0Dx5NJs"
      },
      "source": [
        "## First version"
      ]
    },
    {
      "cell_type": "code",
      "metadata": {
        "id": "saqC839Cz7cb"
      },
      "source": [
        "#Simple CNN\n",
        "\n",
        "model=Sequential()\n",
        "\n",
        "model.add(Conv2D(filters=64,kernel_size=(3,3),input_shape=(28,28,1),activation='relu'))\n",
        "model.add(MaxPool2D(pool_size=(2,2)))\n",
        "model.add(Flatten())\n",
        "model.add(Dense(128,activation='relu'))\n",
        "model.add(Dense(10,activation='softmax'))\n",
        "\n",
        "model.compile(loss='categorical_crossentropy',optimizer='adam',metrics=['accuracy'])\n"
      ],
      "execution_count": 19,
      "outputs": []
    },
    {
      "cell_type": "code",
      "metadata": {
        "colab": {
          "base_uri": "https://localhost:8080/",
          "height": 156
        },
        "id": "0B0I1r8oBtG7",
        "outputId": "2504e48c-affc-4255-b600-8e78df23f746"
      },
      "source": [
        "visualkeras.layered_view(model)"
      ],
      "execution_count": 20,
      "outputs": [
        {
          "output_type": "execute_result",
          "data": {
            "image/png": "[encoded data removed]",
            "text/plain": [
              "<PIL.Image.Image image mode=RGBA size=561x139 at 0x7F1EB0169AC8>"
            ]
          },
          "metadata": {
            "tags": []
          },
          "execution_count": 20
        }
      ]
    },
    {
      "cell_type": "code",
      "metadata": {
        "colab": {
          "base_uri": "https://localhost:8080/",
          "height": 564
        },
        "id": "Xpnnb6zOCYCU",
        "outputId": "418ee7cc-e4d4-4da1-d30e-cc5ccdc32930"
      },
      "source": [
        "plot_model(model)"
      ],
      "execution_count": 21,
      "outputs": [
        {
          "output_type": "execute_result",
          "data": {
            "image/png": "[encoded data removed]",
            "text/plain": [
              "<IPython.core.display.Image object>"
            ]
          },
          "metadata": {
            "tags": []
          },
          "execution_count": 21
        }
      ]
    },
    {
      "cell_type": "code",
      "metadata": {
        "colab": {
          "base_uri": "https://localhost:8080/"
        },
        "id": "P6nbr2euCb2v",
        "outputId": "6d869956-e91c-448b-ca69-e2435907510e"
      },
      "source": [
        "model.summary()"
      ],
      "execution_count": 22,
      "outputs": [
        {
          "output_type": "stream",
          "text": [
            "Model: \"sequential\"\n",
            "_________________________________________________________________\n",
            "Layer (type)                 Output Shape              Param #   \n",
            "=================================================================\n",
            "conv2d (Conv2D)              (None, 26, 26, 64)        640       \n",
            "_________________________________________________________________\n",
            "max_pooling2d (MaxPooling2D) (None, 13, 13, 64)        0         \n",
            "_________________________________________________________________\n",
            "flatten (Flatten)            (None, 10816)             0         \n",
            "_________________________________________________________________\n",
            "dense (Dense)                (None, 128)               1384576   \n",
            "_________________________________________________________________\n",
            "dense_1 (Dense)              (None, 10)                1290      \n",
            "=================================================================\n",
            "Total params: 1,386,506\n",
            "Trainable params: 1,386,506\n",
            "Non-trainable params: 0\n",
            "_________________________________________________________________\n"
          ],
          "name": "stdout"
        }
      ]
    },
    {
      "cell_type": "code",
      "metadata": {
        "colab": {
          "base_uri": "https://localhost:8080/"
        },
        "id": "lM1ypNxWClg7",
        "outputId": "0434c1f4-34f7-41b6-d032-782aed8b14ab"
      },
      "source": [
        "model_history=model.fit(x_train,y_train,epochs=20,batch_size=64,validation_data=(x_val,y_val))"
      ],
      "execution_count": 23,
      "outputs": [
        {
          "output_type": "stream",
          "text": [
            "Epoch 1/20\n",
            "219/219 [==============================] - 4s 7ms/step - loss: 0.6913 - accuracy: 0.7883 - val_loss: 0.1632 - val_accuracy: 0.9512\n",
            "Epoch 2/20\n",
            "219/219 [==============================] - 1s 5ms/step - loss: 0.1391 - accuracy: 0.9606 - val_loss: 0.1037 - val_accuracy: 0.9688\n",
            "Epoch 3/20\n",
            "219/219 [==============================] - 1s 5ms/step - loss: 0.0747 - accuracy: 0.9792 - val_loss: 0.0830 - val_accuracy: 0.9748\n",
            "Epoch 4/20\n",
            "219/219 [==============================] - 1s 5ms/step - loss: 0.0438 - accuracy: 0.9885 - val_loss: 0.0934 - val_accuracy: 0.9708\n",
            "Epoch 5/20\n",
            "219/219 [==============================] - 1s 4ms/step - loss: 0.0316 - accuracy: 0.9903 - val_loss: 0.0732 - val_accuracy: 0.9767\n",
            "Epoch 6/20\n",
            "219/219 [==============================] - 1s 4ms/step - loss: 0.0175 - accuracy: 0.9962 - val_loss: 0.0704 - val_accuracy: 0.9798\n",
            "Epoch 7/20\n",
            "219/219 [==============================] - 1s 4ms/step - loss: 0.0133 - accuracy: 0.9970 - val_loss: 0.0784 - val_accuracy: 0.9770\n",
            "Epoch 8/20\n",
            "219/219 [==============================] - 1s 4ms/step - loss: 0.0109 - accuracy: 0.9972 - val_loss: 0.0731 - val_accuracy: 0.9798\n",
            "Epoch 9/20\n",
            "219/219 [==============================] - 1s 4ms/step - loss: 0.0055 - accuracy: 0.9992 - val_loss: 0.0793 - val_accuracy: 0.9787\n",
            "Epoch 10/20\n",
            "219/219 [==============================] - 1s 4ms/step - loss: 0.0034 - accuracy: 0.9997 - val_loss: 0.0809 - val_accuracy: 0.9788\n",
            "Epoch 11/20\n",
            "219/219 [==============================] - 1s 4ms/step - loss: 0.0027 - accuracy: 0.9996 - val_loss: 0.0753 - val_accuracy: 0.9818\n",
            "Epoch 12/20\n",
            "219/219 [==============================] - 1s 4ms/step - loss: 0.0012 - accuracy: 1.0000 - val_loss: 0.0735 - val_accuracy: 0.9815\n",
            "Epoch 13/20\n",
            "219/219 [==============================] - 1s 4ms/step - loss: 7.7711e-04 - accuracy: 1.0000 - val_loss: 0.0751 - val_accuracy: 0.9807\n",
            "Epoch 14/20\n",
            "219/219 [==============================] - 1s 5ms/step - loss: 5.5125e-04 - accuracy: 1.0000 - val_loss: 0.0783 - val_accuracy: 0.9822\n",
            "Epoch 15/20\n",
            "219/219 [==============================] - 1s 4ms/step - loss: 4.0407e-04 - accuracy: 1.0000 - val_loss: 0.0792 - val_accuracy: 0.9813\n",
            "Epoch 16/20\n",
            "219/219 [==============================] - 1s 4ms/step - loss: 3.1682e-04 - accuracy: 1.0000 - val_loss: 0.0804 - val_accuracy: 0.9817\n",
            "Epoch 17/20\n",
            "219/219 [==============================] - 1s 4ms/step - loss: 2.6576e-04 - accuracy: 1.0000 - val_loss: 0.0817 - val_accuracy: 0.9815\n",
            "Epoch 18/20\n",
            "219/219 [==============================] - 1s 5ms/step - loss: 2.3085e-04 - accuracy: 1.0000 - val_loss: 0.0823 - val_accuracy: 0.9818\n",
            "Epoch 19/20\n",
            "219/219 [==============================] - 1s 4ms/step - loss: 1.9684e-04 - accuracy: 1.0000 - val_loss: 0.0848 - val_accuracy: 0.9813\n",
            "Epoch 20/20\n",
            "219/219 [==============================] - 1s 4ms/step - loss: 1.7264e-04 - accuracy: 1.0000 - val_loss: 0.0850 - val_accuracy: 0.9823\n"
          ],
          "name": "stdout"
        }
      ]
    },
    {
      "cell_type": "code",
      "metadata": {
        "colab": {
          "base_uri": "https://localhost:8080/",
          "height": 362
        },
        "id": "jSI-QdYnC21g",
        "outputId": "2a027162-da06-42b2-fa3e-36852a5f2b75"
      },
      "source": [
        "fig,ax=plt.subplots(figsize=(20,5),nrows=1,ncols=2)\n",
        "\n",
        "ax[0].plot(model_history.history['accuracy'])\n",
        "ax[0].plot(model_history.history['val_accuracy'])\n",
        "ax[0].set_title('model accuray')\n",
        "ax[0].set_xlabel('epoch')\n",
        "ax[0].set_ylabel('accuracy')\n",
        "ax[0].legend(['train','val'],loc='best')\n",
        "\n",
        "ax[1].plot(model_history.history['loss'])\n",
        "ax[1].plot(model_history.history['val_loss'])\n",
        "ax[1].set_title('model loss')\n",
        "ax[1].set_xlabel('epoch')\n",
        "ax[1].set_ylabel('accuracy')\n",
        "ax[1].legend(['train','val'],loc='best')\n",
        "\n",
        "\n"
      ],
      "execution_count": 24,
      "outputs": [
        {
          "output_type": "execute_result",
          "data": {
            "text/plain": [
              "<matplotlib.legend.Legend at 0x7f1e600915c0>"
            ]
          },
          "metadata": {
            "tags": []
          },
          "execution_count": 24
        },
        {
          "output_type": "display_data",
          "data": {
            "image/png": "[encoded data removed]",
            "text/plain": [
              "<Figure size 1440x360 with 2 Axes>"
            ]
          },
          "metadata": {
            "tags": [],
            "needs_background": "light"
          }
        }
      ]
    },
    {
      "cell_type": "code",
      "metadata": {
        "id": "abO5A4QFGwSn",
        "colab": {
          "base_uri": "https://localhost:8080/"
        },
        "outputId": "6936faa1-269f-4b9c-ca82-52ff48e6fdb7"
      },
      "source": [
        "#Prediction\n",
        "prediction1=model.predict_classes(X_test)"
      ],
      "execution_count": 25,
      "outputs": [
        {
          "output_type": "stream",
          "text": [
            "/usr/local/lib/python3.6/dist-packages/tensorflow/python/keras/engine/sequential.py:450: UserWarning: `model.predict_classes()` is deprecated and will be removed after 2021-01-01. Please use instead:* `np.argmax(model.predict(x), axis=-1)`,   if your model does multi-class classification   (e.g. if it uses a `softmax` last-layer activation).* `(model.predict(x) > 0.5).astype(\"int32\")`,   if your model does binary classification   (e.g. if it uses a `sigmoid` last-layer activation).\n",
            "  warnings.warn('`model.predict_classes()` is deprecated and '\n"
          ],
          "name": "stderr"
        }
      ]
    },
    {
      "cell_type": "code",
      "metadata": {
        "colab": {
          "base_uri": "https://localhost:8080/",
          "height": 388
        },
        "id": "dmfUuETQ4jpl",
        "outputId": "d90b92d0-5eeb-41ef-c6a2-9387be63a865"
      },
      "source": [
        "plt.figure(figsize=(12,6))\n",
        "sns.heatmap(confusion_matrix(label_test,prediction1), annot=True, \n",
        "            fmt='1',\n",
        "            cmap='Blues')"
      ],
      "execution_count": 26,
      "outputs": [
        {
          "output_type": "execute_result",
          "data": {
            "text/plain": [
              "<matplotlib.axes._subplots.AxesSubplot at 0x7f1eb0061400>"
            ]
          },
          "metadata": {
            "tags": []
          },
          "execution_count": 26
        },
        {
          "output_type": "display_data",
          "data": {
            "image/png": "[encoded data removed]",
            "text/plain": [
              "<Figure size 864x432 with 2 Axes>"
            ]
          },
          "metadata": {
            "tags": [],
            "needs_background": "light"
          }
        }
      ]
    },
    {
      "cell_type": "code",
      "metadata": {
        "colab": {
          "base_uri": "https://localhost:8080/"
        },
        "id": "jCAD00WJ4yys",
        "outputId": "c88d5a88-a3d8-41e4-9f3b-209d3778ae6a"
      },
      "source": [
        "print(\"Accuracy : \",round(accuracy_score(label_test,prediction1),ndigits=2)*100,\"%\")"
      ],
      "execution_count": 27,
      "outputs": [
        {
          "output_type": "stream",
          "text": [
            "Accuracy :  98.0 %\n"
          ],
          "name": "stdout"
        }
      ]
    },
    {
      "cell_type": "markdown",
      "metadata": {
        "id": "85xzpnKf5SRj"
      },
      "source": [
        "## Second version "
      ]
    },
    {
      "cell_type": "code",
      "metadata": {
        "id": "ISctnLai8ryB"
      },
      "source": [
        "modelB=Sequential()\n",
        "\n",
        "modelB.add(Conv2D(filters=32,padding='same',kernel_size=(3,3),activation='relu',input_shape=(28,28,1)))\n",
        "modelB.add(MaxPooling2D())\n",
        "modelB.add(BatchNormalization())\n",
        "\n",
        "modelB.add(Conv2D(64,padding='same',kernel_size=(3,3),activation='relu'))\n",
        "modelB.add(MaxPooling2D())\n",
        "modelB.add(BatchNormalization())\n",
        "\n",
        "modelB.add(Conv2D(filters=128,kernel_size=(3,3),activation='relu'))\n",
        "modelB.add(MaxPooling2D())\n",
        "\n",
        "modelB.add(Flatten())\n",
        "modelB.add(BatchNormalization())\n",
        "\n",
        "modelB.add(Dense(256,activation=\"relu\"))\n",
        "modelB.add(Dense(10,activation=\"softmax\"))\n",
        "\n",
        "modelB.compile(loss=\"categorical_crossentropy\", optimizer=\"adam\", metrics=[\"accuracy\"])"
      ],
      "execution_count": 29,
      "outputs": []
    },
    {
      "cell_type": "code",
      "metadata": {
        "colab": {
          "base_uri": "https://localhost:8080/"
        },
        "id": "R_P0ViN75Bp7",
        "outputId": "33833640-47cf-491f-9776-7d5c72278f09"
      },
      "source": [
        "modelB.summary()"
      ],
      "execution_count": 30,
      "outputs": [
        {
          "output_type": "stream",
          "text": [
            "Model: \"sequential_1\"\n",
            "_________________________________________________________________\n",
            "Layer (type)                 Output Shape              Param #   \n",
            "=================================================================\n",
            "conv2d_1 (Conv2D)            (None, 28, 28, 32)        320       \n",
            "_________________________________________________________________\n",
            "max_pooling2d_1 (MaxPooling2 (None, 14, 14, 32)        0         \n",
            "_________________________________________________________________\n",
            "batch_normalization (BatchNo (None, 14, 14, 32)        128       \n",
            "_________________________________________________________________\n",
            "conv2d_2 (Conv2D)            (None, 14, 14, 64)        18496     \n",
            "_________________________________________________________________\n",
            "max_pooling2d_2 (MaxPooling2 (None, 7, 7, 64)          0         \n",
            "_________________________________________________________________\n",
            "batch_normalization_1 (Batch (None, 7, 7, 64)          256       \n",
            "_________________________________________________________________\n",
            "conv2d_3 (Conv2D)            (None, 5, 5, 128)         73856     \n",
            "_________________________________________________________________\n",
            "max_pooling2d_3 (MaxPooling2 (None, 2, 2, 128)         0         \n",
            "_________________________________________________________________\n",
            "flatten_1 (Flatten)          (None, 512)               0         \n",
            "_________________________________________________________________\n",
            "batch_normalization_2 (Batch (None, 512)               2048      \n",
            "_________________________________________________________________\n",
            "dense_2 (Dense)              (None, 256)               131328    \n",
            "_________________________________________________________________\n",
            "dense_3 (Dense)              (None, 10)                2570      \n",
            "=================================================================\n",
            "Total params: 229,002\n",
            "Trainable params: 227,786\n",
            "Non-trainable params: 1,216\n",
            "_________________________________________________________________\n"
          ],
          "name": "stdout"
        }
      ]
    },
    {
      "cell_type": "code",
      "metadata": {
        "colab": {
          "base_uri": "https://localhost:8080/",
          "height": 167
        },
        "id": "AyLoblB87mnc",
        "outputId": "04de9e53-775e-4dad-b4ab-06170de61fc4"
      },
      "source": [
        "visualkeras.layered_view(modelB)"
      ],
      "execution_count": 31,
      "outputs": [
        {
          "output_type": "execute_result",
          "data": {
            "image/png": "[encoded data removed]",
            "text/plain": [
              "<PIL.Image.Image image mode=RGBA size=461x150 at 0x7F1EB011A860>"
            ]
          },
          "metadata": {
            "tags": []
          },
          "execution_count": 31
        }
      ]
    },
    {
      "cell_type": "code",
      "metadata": {
        "colab": {
          "base_uri": "https://localhost:8080/"
        },
        "id": "nb9D2WYa_yjS",
        "outputId": "ee97e449-3d9a-4f41-c34f-7ecf33f8f616"
      },
      "source": [
        "\n",
        "history_modelB=modelB.fit(x_train,y_train,epochs=20,validation_data=(x_val,y_val))"
      ],
      "execution_count": 32,
      "outputs": [
        {
          "output_type": "stream",
          "text": [
            "Epoch 1/20\n",
            "438/438 [==============================] - 3s 6ms/step - loss: 0.3448 - accuracy: 0.8911 - val_loss: 1.1069 - val_accuracy: 0.6228\n",
            "Epoch 2/20\n",
            "438/438 [==============================] - 2s 5ms/step - loss: 0.0749 - accuracy: 0.9774 - val_loss: 0.0627 - val_accuracy: 0.9812\n",
            "Epoch 3/20\n",
            "438/438 [==============================] - 2s 5ms/step - loss: 0.0399 - accuracy: 0.9863 - val_loss: 0.0697 - val_accuracy: 0.9810\n",
            "Epoch 4/20\n",
            "438/438 [==============================] - 2s 5ms/step - loss: 0.0299 - accuracy: 0.9901 - val_loss: 0.0637 - val_accuracy: 0.9832\n",
            "Epoch 5/20\n",
            "438/438 [==============================] - 2s 5ms/step - loss: 0.0211 - accuracy: 0.9929 - val_loss: 0.0639 - val_accuracy: 0.9853\n",
            "Epoch 6/20\n",
            "438/438 [==============================] - 2s 5ms/step - loss: 0.0220 - accuracy: 0.9926 - val_loss: 0.0793 - val_accuracy: 0.9823\n",
            "Epoch 7/20\n",
            "438/438 [==============================] - 2s 5ms/step - loss: 0.0343 - accuracy: 0.9892 - val_loss: 0.0737 - val_accuracy: 0.9845\n",
            "Epoch 8/20\n",
            "438/438 [==============================] - 2s 5ms/step - loss: 0.0237 - accuracy: 0.9938 - val_loss: 0.0718 - val_accuracy: 0.9840\n",
            "Epoch 9/20\n",
            "438/438 [==============================] - 2s 5ms/step - loss: 0.0206 - accuracy: 0.9935 - val_loss: 0.0616 - val_accuracy: 0.9860\n",
            "Epoch 10/20\n",
            "438/438 [==============================] - 2s 5ms/step - loss: 0.0134 - accuracy: 0.9957 - val_loss: 0.0633 - val_accuracy: 0.9872\n",
            "Epoch 11/20\n",
            "438/438 [==============================] - 2s 5ms/step - loss: 0.0154 - accuracy: 0.9949 - val_loss: 0.0857 - val_accuracy: 0.9855\n",
            "Epoch 12/20\n",
            "438/438 [==============================] - 2s 5ms/step - loss: 0.0194 - accuracy: 0.9939 - val_loss: 0.0784 - val_accuracy: 0.9820\n",
            "Epoch 13/20\n",
            "438/438 [==============================] - 2s 5ms/step - loss: 0.0181 - accuracy: 0.9937 - val_loss: 0.0920 - val_accuracy: 0.9838\n",
            "Epoch 14/20\n",
            "438/438 [==============================] - 2s 5ms/step - loss: 0.0222 - accuracy: 0.9942 - val_loss: 0.0768 - val_accuracy: 0.9855\n",
            "Epoch 15/20\n",
            "438/438 [==============================] - 2s 5ms/step - loss: 0.0125 - accuracy: 0.9960 - val_loss: 0.0795 - val_accuracy: 0.9872\n",
            "Epoch 16/20\n",
            "438/438 [==============================] - 2s 5ms/step - loss: 0.0159 - accuracy: 0.9950 - val_loss: 0.0821 - val_accuracy: 0.9855\n",
            "Epoch 17/20\n",
            "438/438 [==============================] - 2s 5ms/step - loss: 0.0099 - accuracy: 0.9966 - val_loss: 0.0878 - val_accuracy: 0.9878\n",
            "Epoch 18/20\n",
            "438/438 [==============================] - 2s 5ms/step - loss: 0.0098 - accuracy: 0.9967 - val_loss: 0.0762 - val_accuracy: 0.9880\n",
            "Epoch 19/20\n",
            "438/438 [==============================] - 2s 5ms/step - loss: 0.0145 - accuracy: 0.9964 - val_loss: 0.0905 - val_accuracy: 0.9868\n",
            "Epoch 20/20\n",
            "438/438 [==============================] - 2s 5ms/step - loss: 0.0208 - accuracy: 0.9950 - val_loss: 0.0813 - val_accuracy: 0.9877\n"
          ],
          "name": "stdout"
        }
      ]
    },
    {
      "cell_type": "code",
      "metadata": {
        "colab": {
          "base_uri": "https://localhost:8080/",
          "height": 362
        },
        "id": "LqPRQL4S_4-6",
        "outputId": "ea8e95c4-2c3b-4edb-d9c7-18490fa9fbba"
      },
      "source": [
        "fig,ax=plt.subplots(figsize=(20,5),nrows=1,ncols=2)\n",
        "\n",
        "ax[0].plot(history_modelB.history['accuracy'])\n",
        "ax[0].plot(history_modelB.history['val_accuracy'])\n",
        "ax[0].set_title('model accuray')\n",
        "ax[0].set_xlabel('epoch')\n",
        "ax[0].set_ylabel('accuracy')\n",
        "ax[0].legend(['train','val'],loc='best')\n",
        "\n",
        "ax[1].plot(history_modelB.history['loss'])\n",
        "ax[1].plot(history_modelB.history['val_loss'])\n",
        "ax[1].set_title('model loss')\n",
        "ax[1].set_xlabel('epoch')\n",
        "ax[1].set_ylabel('accuracy')\n",
        "ax[1].legend(['train','val'],loc='best')"
      ],
      "execution_count": 33,
      "outputs": [
        {
          "output_type": "execute_result",
          "data": {
            "text/plain": [
              "<matplotlib.legend.Legend at 0x7f1e585c1dd8>"
            ]
          },
          "metadata": {
            "tags": []
          },
          "execution_count": 33
        },
        {
          "output_type": "display_data",
          "data": {
            "image/png": "[encoded data removed]",
            "text/plain": [
              "<Figure size 1440x360 with 2 Axes>"
            ]
          },
          "metadata": {
            "tags": [],
            "needs_background": "light"
          }
        }
      ]
    },
    {
      "cell_type": "code",
      "metadata": {
        "colab": {
          "base_uri": "https://localhost:8080/"
        },
        "id": "Bfj42lY8APKc",
        "outputId": "ea24675a-6912-402c-c46b-616b758e44d2"
      },
      "source": [
        "predictionB=modelB.predict_classes(X_test)"
      ],
      "execution_count": 34,
      "outputs": [
        {
          "output_type": "stream",
          "text": [
            "/usr/local/lib/python3.6/dist-packages/tensorflow/python/keras/engine/sequential.py:450: UserWarning: `model.predict_classes()` is deprecated and will be removed after 2021-01-01. Please use instead:* `np.argmax(model.predict(x), axis=-1)`,   if your model does multi-class classification   (e.g. if it uses a `softmax` last-layer activation).* `(model.predict(x) > 0.5).astype(\"int32\")`,   if your model does binary classification   (e.g. if it uses a `sigmoid` last-layer activation).\n",
            "  warnings.warn('`model.predict_classes()` is deprecated and '\n"
          ],
          "name": "stderr"
        }
      ]
    },
    {
      "cell_type": "code",
      "metadata": {
        "colab": {
          "base_uri": "https://localhost:8080/",
          "height": 388
        },
        "id": "E9lAjk7kBfcg",
        "outputId": "dc6597f2-fd11-450e-d669-9e0a15c224ee"
      },
      "source": [
        "plt.figure(figsize=(12,6))\n",
        "sns.heatmap(confusion_matrix(label_test,predictionB), annot=True, \n",
        "            fmt='1',\n",
        "            cmap='Blues')"
      ],
      "execution_count": 35,
      "outputs": [
        {
          "output_type": "execute_result",
          "data": {
            "text/plain": [
              "<matplotlib.axes._subplots.AxesSubplot at 0x7f1e58410320>"
            ]
          },
          "metadata": {
            "tags": []
          },
          "execution_count": 35
        },
        {
          "output_type": "display_data",
          "data": {
            "image/png": "[encoded data removed]",
            "text/plain": [
              "<Figure size 864x432 with 2 Axes>"
            ]
          },
          "metadata": {
            "tags": [],
            "needs_background": "light"
          }
        }
      ]
    },
    {
      "cell_type": "code",
      "metadata": {
        "colab": {
          "base_uri": "https://localhost:8080/"
        },
        "id": "JKvh72mnBksv",
        "outputId": "761f37cb-fd29-4922-a49f-022775875f66"
      },
      "source": [
        "print(\"Accuracy : \",round(accuracy_score(label_test,predictionB),ndigits=2)*100,\"%\")"
      ],
      "execution_count": 36,
      "outputs": [
        {
          "output_type": "stream",
          "text": [
            "Accuracy :  99.0 %\n"
          ],
          "name": "stdout"
        }
      ]
    },
    {
      "cell_type": "code",
      "metadata": {
        "id": "CLWIP54LBpmD"
      },
      "source": [
        ""
      ],
      "execution_count": null,
      "outputs": []
    }
  ]
}